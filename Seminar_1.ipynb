{
 "cells": [
  {
   "cell_type": "markdown",
   "id": "50ca782b",
   "metadata": {},
   "source": [
    "<img src='https://pozdravushka.ru/_ph/15/2/943913868.gif'>"
   ]
  },
  {
   "cell_type": "markdown",
   "id": "5a2f2ede",
   "metadata": {},
   "source": [
    "<table>\n",
    "    <tr>\n",
    "        <td></td>\n",
    "        <td><b>До события</b></td>\n",
    "        <td><b>Во время события</b></td>\n",
    "    </tr>\n",
    "    <tr>\n",
    "        <td><b>1 контрольная точка</b></td>\n",
    "        <td>$$250$$</td>\n",
    "        <td>$$500$$</td>\n",
    "    </tr>\n",
    "    <tr>\n",
    "        <td><b>2 контрольная точка</b></td>\n",
    "        <td>$$350$$</td>\n",
    "        <td>$$700$$</td>\n",
    "    </tr>\n",
    "    <tr>\n",
    "        <td><b>3 контрольная точка</b></td>\n",
    "        <td>$$400$$</td>\n",
    "        <td>$$800$$</td>\n",
    "    </tr>\n",
    "    <tr>\n",
    "        <td>\n",
    "        </td>\n",
    "    </tr>\n",
    "    <tr>\n",
    "        <td><b>Итого за победу</b></td>\n",
    "        <td>$$1000$$</td>\n",
    "        <td>$$2000$$</td>\n",
    "    </tr>\n",
    "</table>"
   ]
  },
  {
   "cell_type": "markdown",
   "id": "e27d994e",
   "metadata": {},
   "source": [
    "### Задача № 2\n",
    "\n",
    "#### На складе лежат разные фрукты в разном количестве.\n",
    "#### Нужно написать функцию, которая на вход принимает любое количество   \n",
    "#### названий фруктов и их количество, а возвращает общее количество фруктов  на складе."
   ]
  },
  {
   "cell_type": "code",
   "execution_count": 1,
   "id": "8050547f",
   "metadata": {},
   "outputs": [],
   "source": [
    "def sum_fruits(**kwargs):\n",
    "    for key, value in kwargs.items():\n",
    "        print('На складе есть {} в количестве {} шт.'.format(key, value))\n",
    "    summa = 0\n",
    "    for el in kwargs.values():\n",
    "        summa += int(el)\n",
    "    print(f'Всего фруктов на складе = {summa} шт.')"
   ]
  },
  {
   "cell_type": "code",
   "execution_count": 2,
   "id": "fffb4c46",
   "metadata": {},
   "outputs": [
    {
     "name": "stdout",
     "output_type": "stream",
     "text": [
      "На складе есть апельсины в количестве 20 шт.\n",
      "На складе есть яблоки в количестве 10 шт.\n",
      "На складе есть бананы в количестве 50 шт.\n",
      "Всего фруктов на складе = 80 шт.\n"
     ]
    }
   ],
   "source": [
    "sum_fruits(\n",
    "    апельсины='20',\n",
    "    яблоки='10',\n",
    "    бананы='50'\n",
    ")"
   ]
  },
  {
   "cell_type": "markdown",
   "id": "a926e53a",
   "metadata": {},
   "source": [
    "### Задача № 3\n",
    "#### Дан список с затратами на рекламу. Но в данных есть ошибки, некоторые затраты имеют отрицательную величину. Удалите такие значения из списка и посчитайте суммарные затраты\n",
    "[100, 125, -90, 345, 655, -1, 0, 200]\n",
    "#### Используйте list comprehensions"
   ]
  },
  {
   "cell_type": "code",
   "execution_count": 3,
   "id": "f8f2f812",
   "metadata": {},
   "outputs": [
    {
     "name": "stdout",
     "output_type": "stream",
     "text": [
      "[100, 125, 345, 655, 200]\n"
     ]
    },
    {
     "data": {
      "text/plain": [
       "1425"
      ]
     },
     "execution_count": 3,
     "metadata": {},
     "output_type": "execute_result"
    }
   ],
   "source": [
    "advertising_costs = [100, 125, -90, 345, 655, -1, 0, 200]\n",
    "costs = [i for i in advertising_costs if i > 0]\n",
    "print(costs)\n",
    "sum(costs)"
   ]
  },
  {
   "cell_type": "markdown",
   "id": "8cad1ded",
   "metadata": {},
   "source": [
    "### Задача № 4.1\n",
    "#### Даны два списка. Найдите, какая выручка у компании в ноябре. Используйте list comprehensions.\n",
    "#### Дата покупки\n",
    "['2021-09-14', '2021-12-15', '2021-09-08', '2021-12-05', '2021-10-09', \n",
    "'2021-09-30', '2021-12-22', '2021-11-29', '2021-12-24', '2021-11-26', \n",
    "'2021-10-27', '2021-12-18', '2021-11-09', '2021-11-23', '2021-09-27', \n",
    "'2021-10-02', '2021-12-27', '2021-09-20', '2021-12-13', '2021-11-01', \n",
    "'2021-11-09', '2021-12-06', '2021-12-08', '2021-10-09', '2021-10-31', \n",
    "'2021-09-30', '2021-11-09', '2021-12-13', '2021-10-26', '2021-12-09']\n",
    "#### Суммы покупок по датам\n",
    "[1270, 8413, 9028, 3703, 5739, 4095, 295, 4944, 5723, 3701, 4471, 651, 7037, 4274, 6275, 4988, 6930, 2971, 6592, 2004, 2822, 519, 3406, 2732, 5015, 2008, 316, 6333, 5700, 2887]"
   ]
  },
  {
   "cell_type": "code",
   "execution_count": 4,
   "id": "e6b3c05b",
   "metadata": {},
   "outputs": [],
   "source": [
    "date_purchase = ['2021-09-14', '2021-12-15', '2021-09-08', '2021-12-05', '2021-10-09', \n",
    "                 '2021-09-30', '2021-12-22', '2021-11-29', '2021-12-24', '2021-11-26', \n",
    "                 '2021-10-27', '2021-12-18', '2021-11-09', '2021-11-23', '2021-09-27', \n",
    "                 '2021-10-02', '2021-12-27', '2021-09-20', '2021-12-13', '2021-11-01', \n",
    "                 '2021-11-09', '2021-12-06', '2021-12-08', '2021-10-09', '2021-10-31', \n",
    "                 '2021-09-30', '2021-11-09', '2021-12-13', '2021-10-26', '2021-12-09']\n",
    "purchase_amounts = [1270, 8413, 9028, 3703, 5739, 4095, \n",
    "                    295, 4944, 5723, 3701, 4471, 651, \n",
    "                    7037, 4274, 6275, 4988, 6930, 2971, \n",
    "                    6592, 2004, 2822, 519, 3406, 2732, \n",
    "                    5015, 2008, 316, 6333, 5700, 2887]"
   ]
  },
  {
   "cell_type": "code",
   "execution_count": 5,
   "id": "54434d14",
   "metadata": {},
   "outputs": [
    {
     "name": "stdout",
     "output_type": "stream",
     "text": [
      "[4944, 3701, 7037, 4274, 2004, 2822, 316]\n",
      "Выручка за ноябрь = 25098\n"
     ]
    }
   ],
   "source": [
    "print([purchase_amounts[i] for i in range(0, len(date_purchase) -1) if \"-11\" in date_purchase[i]])\n",
    "print(f'Выручка за ноябрь = {sum([purchase_amounts[i] for i in range(len(date_purchase) -1) if \"-11\" in date_purchase[i]])}')"
   ]
  },
  {
   "cell_type": "markdown",
   "id": "1ce51479",
   "metadata": {},
   "source": [
    "### Задача № 4.2\n",
    "#### Найдите выручку компании в зависимости от месяца\n",
    "#### Для этого напишите функцию, которая на вход принимает список с датами и список с выручкой, а на выходе словарь, где ключи - это месяцы, а значения - это выручка.\n",
    "#### Используйте аннотирование типов."
   ]
  },
  {
   "cell_type": "code",
   "execution_count": 6,
   "id": "61791d0a",
   "metadata": {},
   "outputs": [
    {
     "name": "stdout",
     "output_type": "stream",
     "text": [
      "{'09': 25647, '12': 45452, '10': 28645, '11': 25098}\n"
     ]
    }
   ],
   "source": [
    "def revenue_search(data_1: list, data_2: list) -> dict:\n",
    "    profits = {}\n",
    "    for i in range(len(data_1)):\n",
    "        if date_purchase[i].split('-')[1] in profits.keys():\n",
    "            profits[date_purchase[i].split('-')[1]] += purchase_amounts[i]\n",
    "        else:\n",
    "            profits[date_purchase[i].split('-')[1]] = purchase_amounts[i]\n",
    "    return profits\n",
    "print(revenue_search(date_purchase, purchase_amounts))"
   ]
  }
 ],
 "metadata": {
  "kernelspec": {
   "display_name": "Python 3 (ipykernel)",
   "language": "python",
   "name": "python3"
  },
  "language_info": {
   "codemirror_mode": {
    "name": "ipython",
    "version": 3
   },
   "file_extension": ".py",
   "mimetype": "text/x-python",
   "name": "python",
   "nbconvert_exporter": "python",
   "pygments_lexer": "ipython3",
   "version": "3.10.9"
  }
 },
 "nbformat": 4,
 "nbformat_minor": 5
}
